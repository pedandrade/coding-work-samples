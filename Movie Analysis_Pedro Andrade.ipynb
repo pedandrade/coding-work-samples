{
 "cells": [
  {
   "cell_type": "markdown",
   "id": "21685c5b",
   "metadata": {},
   "source": [
    "# Importing the packages and data"
   ]
  },
  {
   "cell_type": "code",
   "execution_count": null,
   "id": "88d19f7b",
   "metadata": {
    "cell_style": "center",
    "deletable": false,
    "editable": false
   },
   "outputs": [],
   "source": [
    "# First thing is to import the packages that are going to be used to read and analyze the data,\n",
    "\n",
    "import pandas as pd\n",
    "import matplotlib.pyplot as plt\n",
    "import seaborn as sns\n",
    "import numpy as np\n",
    "\n",
    "# Since some data can be misleading in terms of \"type\", let's convert some data types that might not be \n",
    "# correctly defined, by using dictionaries.\n",
    "\n",
    "data_types = {'release_year': str,\n",
    "              'gross_earnings': float,\n",
    "              'budget': float}\n",
    "\n",
    "# This is a step to save the file path on my computer.\n",
    "file = '/Users/pedro_andrade/Desktop/Intro to Python/movies_unlocked.xlsx'\n",
    "\n",
    "\n",
    "# Let's define our dataframe and read the excel file to start our analysis.\n",
    "df = pd.read_excel ( io = file,\n",
    "                     sheet_name = 0,\n",
    "                     dtype = data_types,\n",
    "                     header = 0)\n",
    "\n",
    "# It is important to print the information about the dataframe, checking for the data types that might not be\n",
    "# correct and also any missing values.\n",
    "print(df.info())\n",
    "\n",
    "# Also, let's show the first five rows and labels of our dataset.\n",
    "df.head()"
   ]
  },
  {
   "cell_type": "code",
   "execution_count": null,
   "id": "32692a0a",
   "metadata": {
    "cell_style": "split",
    "deletable": false,
    "editable": false
   },
   "outputs": [],
   "source": [
    "# Applying the heurestic rule on the dataset\n",
    "heuristic_rule = 9 / 1677 * 100\n",
    "rounded_rule = round(heuristic_rule, ndigits = 2)\n",
    "\n",
    "print('-'*40)\n",
    "\n",
    "print(df.isnull().sum(axis = 0))\n",
    "\n",
    "print('-' * 40, '\\n')\n",
    "\n",
    "\n",
    "print(f\"\"\"The heuristic rules applies in this case because \n",
    "the missing values represent only {rounded_rule}% \n",
    "of the observations!\"\"\")\n"
   ]
  },
  {
   "cell_type": "code",
   "execution_count": null,
   "id": "1324ee16",
   "metadata": {
    "cell_style": "split",
    "deletable": false,
    "editable": false,
    "scrolled": true
   },
   "outputs": [],
   "source": [
    "# Dropping missing values\n",
    "df_dropped = df.dropna()\n",
    "\n",
    "# Printing the results\n",
    "print(df_dropped.isnull().sum())"
   ]
  },
  {
   "cell_type": "markdown",
   "id": "299e365f",
   "metadata": {},
   "source": [
    "After importing the packages and reading the file, the most important thing is to check the dataset for dirty data (wrong data types, missing values) and anything that can get in your way to properly analyze the data, leading you to wrong conclusions. I applied the heurestic rule since the number of missing values was not that many, representing just a small proportion of the total observations. I decided then, to drop those missing values, and work with a clean dataset."
   ]
  },
  {
   "cell_type": "markdown",
   "id": "c2438ab9",
   "metadata": {},
   "source": [
    "# Descriptive Statistics of all movies"
   ]
  },
  {
   "cell_type": "code",
   "execution_count": null,
   "id": "60d7d235",
   "metadata": {
    "deletable": false,
    "editable": false
   },
   "outputs": [],
   "source": [
    "# descriptive statistics\n",
    "df_dropped.describe(include = 'number').round(decimals = 2)"
   ]
  },
  {
   "cell_type": "markdown",
   "id": "8549e23a",
   "metadata": {},
   "source": [
    "# Distribution of Movies"
   ]
  },
  {
   "cell_type": "code",
   "execution_count": null,
   "id": "6b75f7f0",
   "metadata": {
    "cell_style": "split",
    "deletable": false,
    "editable": false
   },
   "outputs": [],
   "source": [
    "# Average User Rating Distribution\n",
    "\n",
    "fig, ax = plt.subplots(figsize = (8 ,8))\n",
    "\n",
    "# Creating the histogram\n",
    "sns.histplot(data = df_dropped,\n",
    "             x = 'average_user_rating',\n",
    "             bins = 'fd', # Optimal number of bins using Freedman-Diaconis rule\n",
    "             kde = True,\n",
    "             color = 'black')\n",
    "\n",
    "# title and labels\n",
    "plt.title(\"\"\"Distribution of movies by \n",
    "Average User Rating\"\"\")\n",
    "plt.xlabel(\"Average User Rating\")\n",
    "plt.ylabel(\"# Movies\")\n",
    "\n",
    "# adding mean and median (vertical lines)\n",
    "plt.axvline (x = df_dropped['average_user_rating'].mean(),\n",
    "             color = 'red')\n",
    "plt.axvline (x = df_dropped['average_user_rating'].median(),\n",
    "             color = 'blue')\n",
    "\n",
    "# adding legend to the plot\n",
    "plt.legend (labels = ['Distribution','Median','Mean'])\n",
    "\n",
    "plt.show()"
   ]
  },
  {
   "cell_type": "code",
   "execution_count": null,
   "id": "b0b73975",
   "metadata": {
    "cell_style": "split",
    "deletable": false,
    "editable": false
   },
   "outputs": [],
   "source": [
    "# IMDB Score Distribution\n",
    "\n",
    "fig, ax = plt.subplots(figsize = (8 ,8))\n",
    "\n",
    "# Creating the histogram\n",
    "sns.histplot(data = df_dropped,\n",
    "             x = 'imdb_score',\n",
    "             bins = 'fd', # Optimal number of bins using Freedman-Diaconis rule\n",
    "             kde = True,\n",
    "             color = 'green')\n",
    "\n",
    "# title and labels\n",
    "plt.title(\"Distribution of movies by IMDB Score\\n\")\n",
    "plt.xlabel(\"IMDB Score\")\n",
    "plt.ylabel(\"# Movies\")\n",
    "\n",
    "# adding mean and median (vertical lines)\n",
    "plt.axvline (x = df_dropped['imdb_score'].mean(),\n",
    "             color = 'red')\n",
    "plt.axvline (x = df_dropped['imdb_score'].median(),\n",
    "             color = 'blue')\n",
    "\n",
    "# adding legend to the plot\n",
    "plt.legend (labels = ['Distribution','Median','Mean'])\n",
    "\n",
    "plt.show()\n"
   ]
  },
  {
   "cell_type": "markdown",
   "id": "0dda3adb",
   "metadata": {},
   "source": [
    "It is very interesting to notice some details about the data. Looking at the IMDB Score and User Rating, we see that the average and the median score are very close, being the average (mean) a little smaller than the central value (median) of all scores in these two variables. The two graphs show exactly that, being the chart on the left the Average User Rating and the one on the right the average of IMDB Score. The distribution of movies based on these two variables are almost normal, and due to this small difference between the mean and median, the distribution is slightly skewed to the left.\n",
    "\n",
    "Another interesting fact is the length of all movies, being 109 minutes (almost 1 hour and 50 minutes) the average length. This is relatively short, it seems that most movie lengths fall near the mean and median, also demonstrating a nearly normal distribution, but in this case, since the mean is greater than the median, the chart would be shifted a little to the right. The histogram chart looks like this:"
   ]
  },
  {
   "cell_type": "code",
   "execution_count": null,
   "id": "c559addc",
   "metadata": {
    "deletable": false,
    "editable": false
   },
   "outputs": [],
   "source": [
    "# Distribution of Movies based on Runtime (movie duration)\n",
    "\n",
    "# resizing the plot, to make it more visable.\n",
    "fig, ax = plt.subplots(figsize = (8 ,8))\n",
    "\n",
    "\n",
    "# Creating the histogram plot\n",
    "sns.histplot(data = df_dropped,\n",
    "             x = 'runtime',\n",
    "             bins = 'fd',\n",
    "             kde = True,\n",
    "             color = 'orange')\n",
    "\n",
    "# title and labels\n",
    "plt.title(\"\"\"Distribution of movies by \n",
    "Runtime\"\"\")\n",
    "plt.xlabel(\"Runtime - Duration in minutes\")\n",
    "plt.ylabel(\"# Movies\")\n",
    "\n",
    "# adding mean and median (vertical lines)\n",
    "plt.axvline (x = df_dropped['runtime'].mean(),\n",
    "             color = 'red')\n",
    "plt.axvline (x = df_dropped['runtime'].median(),\n",
    "             color = 'blue')\n",
    "\n",
    "# Adding a legend to the histogram.\n",
    "plt.legend (labels = ['Distribution','Median','Mean'])\n",
    "\n",
    "# Showing the final result of the plot.\n",
    "plt.show()"
   ]
  },
  {
   "cell_type": "markdown",
   "id": "678887e1",
   "metadata": {},
   "source": [
    "# Correlation Matrix of all movies"
   ]
  },
  {
   "cell_type": "code",
   "execution_count": null,
   "id": "ef7c6026",
   "metadata": {
    "deletable": false,
    "editable": false
   },
   "outputs": [],
   "source": [
    "# Understanding the relation between the numeric variables\n",
    "\n",
    "# Creating the correlation matrix first \n",
    "data_corr = df_dropped.corr(method = 'pearson').round(decimals = 2)\n",
    "\n",
    "# Redefining the size of the heatmap \n",
    "fig, ax = plt.subplots(figsize = (8 ,8))\n",
    "\n",
    "# Creating the heatmap based on the correlation matrix.\n",
    "sns.heatmap( data = data_corr,\n",
    "             cmap = 'Blues',\n",
    "             square = True,\n",
    "             annot = True,\n",
    "             linecolor = 'black',\n",
    "             linewidth = 0.5)\n",
    "\n",
    "# Adding a title to the heatmap\n",
    "plt.title(label = 'Correlation of the Movies dataset\\n')\n",
    "\n",
    "# Plotting the heatmap\n",
    "plt.show()"
   ]
  },
  {
   "cell_type": "code",
   "execution_count": null,
   "id": "356a1440",
   "metadata": {
    "deletable": false,
    "editable": false
   },
   "outputs": [],
   "source": [
    "help(sns.lmplot)"
   ]
  },
  {
   "cell_type": "code",
   "execution_count": null,
   "id": "dfd3709a",
   "metadata": {
    "deletable": false,
    "editable": false
   },
   "outputs": [],
   "source": [
    "# Scatter plot of IMDB score and AVG_User_rating\n",
    "\n",
    "sns.lmplot ( x = 'imdb_score',\n",
    "             y = 'average_user_rating',\n",
    "             hue        = None,\n",
    "             scatter    = True, \n",
    "             fit_reg    = True, \n",
    "             aspect     = 3, \n",
    "             data       = df_dropped)\n",
    "\n",
    "# Formatting the scatter plot to make it more user friendly\n",
    "plt.title(label  = 'IMDB and Average User Rating\\n')\n",
    "plt.xlabel(xlabel = 'IMDB Score')\n",
    "plt.ylabel(ylabel = 'Average User Rating')\n",
    "plt.xlim(left   = 0, right = 10)\n",
    "plt.tight_layout(pad    = 1)\n",
    "\n",
    "# Showing the plot\n",
    "plt.show(block  = True)\n"
   ]
  },
  {
   "cell_type": "markdown",
   "id": "cc40f4f4",
   "metadata": {},
   "source": [
    "That was really fun to see, the correlation between our data. Even more fun is to check that the users ratings are very close related and increase in parallel with an \"official\" rating website. Through the heatmap graph and the scatter plot with trend line, we can clearly see that the increase in IMDB Score is followed by an increase in the User Rating. Some movies seem to be a disperse, but most of the data seems to follow this pattern, represented by the trend line.  \n",
    "\n",
    "Another interesting fact about the heatmap is the possible relation between the Gross Earnings and Number of User Votes. Is it possible to say that the most interactions of users with a particular movie, means that the movie might generate more revenues, related to more merchandise sold? More streams and more advertisement? Those are some questions that might explain this relation, and the graph to demonstrate that is shown below. Interesting to notice that most of the data is concentrated between 0 and 250,000 votes (0.25*10^6) and 0 and $100,000,000 (1*10^8) in gross earnings, but after that is shows a slightly positive trend line, increasing while both variables are increasing as well. "
   ]
  },
  {
   "cell_type": "code",
   "execution_count": null,
   "id": "bef1bfb4",
   "metadata": {
    "deletable": false,
    "editable": false
   },
   "outputs": [],
   "source": [
    "# Scatter plot of Gross Earnings and Number of User Votes\n",
    "sns.lmplot ( x = 'num_user_votes',\n",
    "             y = 'gross_earnings',\n",
    "             hue        = None,\n",
    "             scatter    = True, \n",
    "             fit_reg    = True, \n",
    "             aspect     = 4, \n",
    "             data       = df_dropped)\n",
    "\n",
    "# Formatting the plot.\n",
    "plt.title(label  = 'Gross Earnings and Number of User Votes\\n')\n",
    "plt.xlabel(xlabel = 'Number of User Votes')\n",
    "plt.ylabel(ylabel = 'Gross Earnings')\n",
    "plt.tight_layout(pad    = 0)\n",
    "\n",
    "#Showing the plot\n",
    "plt.show(block  = True)\n"
   ]
  },
  {
   "cell_type": "markdown",
   "id": "b4001cca",
   "metadata": {},
   "source": [
    "# Descriptive Statistics of Sports Movies"
   ]
  },
  {
   "cell_type": "code",
   "execution_count": null,
   "id": "2f9144ab",
   "metadata": {
    "deletable": false,
    "editable": false
   },
   "outputs": [],
   "source": [
    "# Finding out how many movies are categorized as Sports\n",
    "movies_sports = 0\n",
    "\n",
    "for index, col in df_dropped.iterrows():\n",
    "    if 'Sport' in df_dropped.loc[index, 'genre']:\n",
    "        movies_sports = movies_sports + 1\n",
    "    else:\n",
    "        continue\n",
    "    \n",
    "print(f\"Sports Movies: {movies_sports}\")\n",
    "\n",
    "# There are only 10 movies inside the \"Sports\" genre.\n",
    "df_sports = df_dropped[df_dropped['genre'].str.contains('Sport')]\n",
    "\n",
    "# Outputing the result of the whole dataset, since we only have 10 movies.\n",
    "df_sports"
   ]
  },
  {
   "cell_type": "code",
   "execution_count": null,
   "id": "64b7ece1",
   "metadata": {
    "cell_style": "center",
    "deletable": false,
    "editable": false
   },
   "outputs": [],
   "source": [
    "# Analyzing the descriptive of Sports\n",
    "df_sports.describe().round(decimals = 2)"
   ]
  },
  {
   "cell_type": "markdown",
   "id": "efe5a401",
   "metadata": {},
   "source": [
    "Going deeper on the analysis, we reach our specific movie genre, Sports, the genre that we are going to make some comparisons between some of the variables and data found on the general analysis. \n",
    "\n",
    "Our sample of analysis is smaller, only 10 movies under the Sports category, but we can take some interesting insights. For example the runtime, being almost the same (110 minutes - Sports and 109 minutes - Average all movies). Average gross earnings and budget are smaller, but there is a fun twist to this two variables, when analyzed them together, on what I called the Gross Earnings/Budget Ratio, which I will talk about further down this analysis.\n",
    "\n",
    "Also, the average evaluation (IMDB and User Rating) are higher when compared to the average of all movies. Are Sports Movies the favorite genre of the audience? What about sports movie is increasing the score? Let us dive deeper to find out."
   ]
  },
  {
   "cell_type": "markdown",
   "id": "09109cf1",
   "metadata": {},
   "source": [
    "# Correlation Matrix - Sports"
   ]
  },
  {
   "cell_type": "code",
   "execution_count": null,
   "id": "4816f95a",
   "metadata": {
    "deletable": false,
    "editable": false
   },
   "outputs": [],
   "source": [
    "# Creating the correlation matrix for Sports Movie only.\n",
    "corr_sports = df_sports.corr(method = 'pearson').round(decimals = 2)\n",
    "\n",
    "# Resizing the plot\n",
    "fig, ax = plt.subplots(figsize = (8 ,8))\n",
    "\n",
    "# Creating the heatmap\n",
    "sns.heatmap(data = corr_sports,\n",
    "            cmap = 'coolwarm',\n",
    "            square = True,\n",
    "            annot = True,\n",
    "            linecolor = 'white',\n",
    "            linewidth = 0.5)\n",
    "# Adding a title\n",
    "plt.title(label = 'Correlation of the Sports Movie\\n')\n",
    "\n",
    "# Showing the final plot\n",
    "plt.show()"
   ]
  },
  {
   "cell_type": "code",
   "execution_count": null,
   "id": "992c97b6",
   "metadata": {
    "deletable": false,
    "editable": false
   },
   "outputs": [],
   "source": [
    "help(sns.lmplot)"
   ]
  },
  {
   "cell_type": "markdown",
   "id": "93834ad9",
   "metadata": {
    "deletable": false,
    "editable": false
   },
   "source": [
    "# Analysis of Sports Movies Genre in comparison with the entire movie database."
   ]
  },
  {
   "cell_type": "markdown",
   "id": "06ef5e15",
   "metadata": {},
   "source": [
    "# Introduction\n",
    "\n",
    "Everyone loves a good story. Who does not like to listen to a friend's story about their lives, or an accomplishment? Specially in the USA, some of those accomplishments are often related to sports, in high school, college, or even professionally. The movie industry is certainly taking advantage of this, and producing amazing movies with a sports background that are getting the attention of the audience according to the Netflix database that is about to be presented. Are you ready to go deeper in this world?"
   ]
  },
  {
   "cell_type": "markdown",
   "id": "3197f0d8",
   "metadata": {},
   "source": [
    "# Insights\n",
    "\n",
    "After a throughout analysis of the movie database and the Sport genre, three points caught my attention:\n",
    "1. The genre Sport generates more Gross Earnings, proportionally to their Budget, in comparison with all other movies.\n",
    "2. Sports movies have higher evaluation rates (IMDB and User Ratings).\n",
    "3. Real life stories - biographies related sports movies, have higher evaluation scores than other genres."
   ]
  },
  {
   "cell_type": "code",
   "execution_count": null,
   "id": "b3159207",
   "metadata": {
    "cell_style": "center",
    "deletable": false,
    "editable": false
   },
   "outputs": [],
   "source": [
    "#Insight 1 - Sports Movie generate more earnings per budget.\n",
    "\n",
    "# Focusing on the average of Budget and Gross Earnings for Sports Movies and the entire dataset.\n",
    "avg_budget_sports = df_sports['budget'].mean()\n",
    "avg_budget_movies = round(df_dropped['budget'].mean(), ndigits = 2)\n",
    "avg_gross_earn_sports = df_sports['gross_earnings'].mean()\n",
    "avg_gross_earn_movies = round(df_dropped['gross_earnings'].mean(), ndigits = 2)\n",
    "\n",
    "\n",
    "# Let's calculate the ratio between the two variables. Which one generates more revenues\n",
    "# in relation to their budge?\n",
    "gross_budget_ratio_sports = round(avg_gross_earn_sports / avg_budget_sports, ndigits = 2)\n",
    "gross_budget_ratio_movies = round(avg_gross_earn_movies / avg_budget_movies, ndigits = 2)\n",
    "\n",
    "print('-' * 40, '\\n')\n",
    "\n",
    "print(f\"\"\"The ratio between Gross Earnings and Budget for sports movies: {gross_budget_ratio_sports}\n",
    "The ratio between Gross Earnings and Budget for all movies: {gross_budget_ratio_movies}\n",
    "\"\"\")"
   ]
  },
  {
   "cell_type": "markdown",
   "id": "725d8e75",
   "metadata": {
    "cell_style": "center"
   },
   "source": [
    "# Insight #1 - Explanation\n",
    "\n",
    "It is interesting to notice that the genre sports have smaller budgets when compared to the average budget of all the other movies on this dataset. But that does not mean that sports movies do not make money in the end. In fact that is completely the opposite. The average gross earning of sports movies represents 66% more of their original budget! That means that for every dollar spent on the production of the movie, the movie generates 1.66 dollars in total revenue. The other movie genres only generates 1.04 per dollar spent, only four percent of their initial budget.\n",
    "\n",
    "We can definitely say that sports movies are much more cost efficient, generating more money per dollar spent that all the other movies. Sports genre are an interesting option to invest when deciding to produce a new movie!"
   ]
  },
  {
   "cell_type": "code",
   "execution_count": null,
   "id": "41482129",
   "metadata": {
    "deletable": false,
    "editable": false
   },
   "outputs": [],
   "source": [
    "# Insight 2\n",
    "\n",
    "# Analyzing the IMDB Score and Average User Rating of Sports Movies and all movies.\n",
    "avg_imdb_sports = df_sports['imdb_score'].mean()\n",
    "avg_avg_user_sports = df_sports['average_user_rating'].mean()\n",
    "avg_imdb_movies = round(df_dropped['imdb_score'].mean(), ndigits = 2)\n",
    "avg_user_movies = round(df_dropped['average_user_rating'].mean(), ndigits = 2)\n",
    "\n",
    "print('-' * 40, '\\n')\n",
    "\n",
    "print(f\"\"\"The average IMDB Score for sports movies: {avg_imdb_sports}\n",
    "The average IMDB Score for all movies: {avg_imdb_movies}\n",
    "\\n\"\"\")\n",
    "\n",
    "print('-' * 40, '\\n')\n",
    "\n",
    "print(f\"\"\"The average User Rating Score for sports movies: {avg_avg_user_sports}\n",
    "The average User Rating Score for all movies: {avg_user_movies}\n",
    "\\n\"\"\")\n"
   ]
  },
  {
   "cell_type": "markdown",
   "id": "c2f2f8b5",
   "metadata": {},
   "source": [
    "# Insight #2 and #3 - Explanation\n",
    "\n",
    "It is a trend and people are talking about them. Sports movies are becoming more and more popular and are part of the American society and culture. As Bonnet(2017) said, \"Nowadays, the belief in sports’ social role is still lasting: it is thought to bolster the teaching of and respect for values which are essential to Americanness, such as competitiveness, equal opportunities, or social mobility.\" \n",
    "\n",
    "Firestein (2007) defined: \"Sports are part of the very fabric of American life, discourse, and lexicon [...]. The centrality of sports in American life is amply reflected in contemporary American cinema, (with) films featuring virtually every major sport, from football, basketball, baseball, and hockey, to boxing, horse racing, and even surfing.\"\n",
    "\n",
    "These explain exactly why sports movies have higher scores, both at the IMDB website and User Ratings. When we look at the numbers, sports movie IMDB scores average 6.94 (out of 10) while the average of all movies is only 6.45. Users also evaluate sports movie better in average, rating 7.07, when the average of all movies is 6.41. \n",
    "\n",
    "Not only that. The numbers also confirm the preference for real-life stories, as the sports movies based on biographies have higher IMDB Score and User Ratings than the other sub-genres of sports and the average of all movies! For example the movie \"42\", a Biography/Sport movie released in 2013, in the US. The movie is about a baseball player called Jackie Robinson, who was the first black athlete to play in Major League Baseball in the modern era (late 19th and early 20th centuries). \n",
    "\n",
    "This by itself brings a lot of social themes to debate, especially in context that we are still battling racial issues in the 21st century, more than 70 years later! \"42\" has a rating of 7.5, both at IMDB and User Ratings, comparing to 6.94 (Sports IMDB average) and 7.07(User Rating Sports average). \n",
    "\n",
    "When movies addresses social issues, it seems to create a sort of a mirror reflecting real-life and bringing important values to discussion in an entertaining way. Sports movies can easily address these issues in many ways, like resilience, patience, willingness to achieve goals, hard work and many other, through the lifes of many athletes and sports references in many different sports. \n"
   ]
  },
  {
   "cell_type": "markdown",
   "id": "e0f5d751",
   "metadata": {},
   "source": [
    "# Conclusion\n",
    "\n",
    "After all these analysis, it is noticeable that Sports Movies are an interesting way to connect to the audience and fans of movies, at the same time entertaining and addressing real-life conflicts and social issues. They can be a powerful tool to change people's mindset on many issues, teaching valuable lessons on ethics, resilience, respect, humility, and many other principles that build character. \n",
    "\n",
    "It is also a profitable segment, since a small budget can turn into a source of good revenue if the history is well built and portrayed. The audience love a good story, based on a real-life situation or character with a strong and beautiful message behind, that can be applied or used as motivation out from the screen. \n",
    "\n",
    "As a rock climber and footballer and above all, a great sports fan, I love to watch movie about sports and I truly believe that sports can teach us great lessons, and I wish there were more movies related to it to make a more impactful analysis, with more examples to compare and get more insights. "
   ]
  },
  {
   "cell_type": "markdown",
   "id": "bdb9540e",
   "metadata": {},
   "source": [
    "# References\n",
    "    \n",
    "Firestein, D. J..“Fields of Dreams: American Sports Movies.” E journal USA, 12 (6), 2007, 9.\n",
    "\n",
    "Bonnet, V. \"Sport in Films: Symbolism versus Verismo. A France-United States Comparative Analysis\", InMedia Online, 6 | 2017, visited on June 1, 2022. URL : http://journals.openedition.org/inmedia/883 ; DOI : https://doi.org/10.4000/inmedia.883\n",
    "\n",
    "“42 (film)” Wikipedia, Wikimedia Foundation, 19 May 2022, URL : https://en.wikipedia.org/wiki/42_(film)"
   ]
  }
 ],
 "metadata": {
  "kernelspec": {
   "display_name": "Python 3 (ipykernel)",
   "language": "python",
   "name": "python3"
  },
  "language_info": {
   "codemirror_mode": {
    "name": "ipython",
    "version": 3
   },
   "file_extension": ".py",
   "mimetype": "text/x-python",
   "name": "python",
   "nbconvert_exporter": "python",
   "pygments_lexer": "ipython3",
   "version": "3.9.7"
  },
  "toc": {
   "base_numbering": 1,
   "nav_menu": {},
   "number_sections": true,
   "sideBar": true,
   "skip_h1_title": false,
   "title_cell": "Table of Contents",
   "title_sidebar": "Contents",
   "toc_cell": false,
   "toc_position": {},
   "toc_section_display": true,
   "toc_window_display": true
  },
  "varInspector": {
   "cols": {
    "lenName": 16,
    "lenType": 16,
    "lenVar": 40
   },
   "kernels_config": {
    "python": {
     "delete_cmd_postfix": "",
     "delete_cmd_prefix": "del ",
     "library": "var_list.py",
     "varRefreshCmd": "print(var_dic_list())"
    },
    "r": {
     "delete_cmd_postfix": ") ",
     "delete_cmd_prefix": "rm(",
     "library": "var_list.r",
     "varRefreshCmd": "cat(var_dic_list()) "
    }
   },
   "types_to_exclude": [
    "module",
    "function",
    "builtin_function_or_method",
    "instance",
    "_Feature"
   ],
   "window_display": false
  }
 },
 "nbformat": 4,
 "nbformat_minor": 5
}
